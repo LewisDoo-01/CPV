{
 "cells": [
  {
   "cell_type": "code",
   "execution_count": 1,
   "metadata": {},
   "outputs": [],
   "source": [
    "import numpy as np\n",
    "import cv2\n",
    "from scipy.spatial.distance import squareform, pdist, cdist\n",
    "from skimage.util import img_as_float\n",
    "from skimage import io\n",
    "import matplotlib.pyplot as plt"
   ]
  },
  {
   "cell_type": "code",
   "execution_count": 2,
   "metadata": {},
   "outputs": [],
   "source": [
    "def plot_matches(ax, image1, image2, keypoints1, keypoints2, matches,\n",
    "                 keypoints_color='k', matches_color=None, only_matches=False):\n",
    "    \"\"\"Plot matched features.\n",
    "    Parameters\n",
    "    ----------\n",
    "    ax : matplotlib.axes.Axes\n",
    "        Matches and image are drawn in this ax.\n",
    "    image1 : (N, M [, 3]) array\n",
    "        First grayscale or color image.\n",
    "    image2 : (N, M [, 3]) array\n",
    "        Second grayscale or color image.\n",
    "    keypoints1 : (K1, 2) array\n",
    "        First keypoint coordinates as ``(row, col)``.\n",
    "    keypoints2 : (K2, 2) array\n",
    "        Second keypoint coordinates as ``(row, col)``.\n",
    "    matches : (Q, 2) array\n",
    "        Indices of corresponding matches in first and second set of\n",
    "        descriptors, where ``matches[:, 0]`` denote the indices in the first\n",
    "        and ``matches[:, 1]`` the indices in the second set of descriptors.\n",
    "    keypoints_color : matplotlib color, optional\n",
    "        Color for keypoint locations.\n",
    "    matches_color : matplotlib color, optional\n",
    "        Color for lines which connect keypoint matches. By default the\n",
    "        color is chosen randomly.\n",
    "    only_matches : bool, optional\n",
    "        Whether to only plot matches and not plot the keypoint locations.\n",
    "    \"\"\"\n",
    "\n",
    "    image1.astype(np.float32)\n",
    "    image2.astype(np.float32)\n",
    "\n",
    "    new_shape1 = list(image1.shape)\n",
    "    new_shape2 = list(image2.shape)\n",
    "\n",
    "    if image1.shape[0] < image2.shape[0]:\n",
    "        new_shape1[0] = image2.shape[0]\n",
    "    elif image1.shape[0] > image2.shape[0]:\n",
    "        new_shape2[0] = image1.shape[0]\n",
    "\n",
    "    if image1.shape[1] < image2.shape[1]:\n",
    "        new_shape1[1] = image2.shape[1]\n",
    "    elif image1.shape[1] > image2.shape[1]:\n",
    "        new_shape2[1] = image1.shape[1]\n",
    "\n",
    "    if new_shape1 != image1.shape:\n",
    "        new_image1 = np.zeros(new_shape1, dtype=image1.dtype)\n",
    "        new_image1[:image1.shape[0], :image1.shape[1]] = image1\n",
    "        image1 = new_image1\n",
    "\n",
    "    if new_shape2 != image2.shape:\n",
    "        new_image2 = np.zeros(new_shape2, dtype=image2.dtype)\n",
    "        new_image2[:image2.shape[0], :image2.shape[1]] = image2\n",
    "        image2 = new_image2\n",
    "\n",
    "    image = np.concatenate([image1, image2], axis=1)\n",
    "\n",
    "    offset = image1.shape\n",
    "\n",
    "    if not only_matches:\n",
    "        ax.scatter(keypoints1[:, 1], keypoints1[:, 0],\n",
    "                   facecolors='none', edgecolors=keypoints_color)\n",
    "        ax.scatter(keypoints2[:, 1] + offset[1], keypoints2[:, 0],\n",
    "                   facecolors='none', edgecolors=keypoints_color)\n",
    "\n",
    "    ax.imshow(image, interpolation='nearest', cmap='gray')\n",
    "    ax.axis((0, 2 * offset[1], offset[0], 0))\n",
    "\n",
    "    for i in range(matches.shape[0]):\n",
    "        idx1 = matches[i, 0]\n",
    "        idx2 = matches[i, 1]\n",
    "\n",
    "        if matches_color is None:\n",
    "            color = np.random.rand(3)\n",
    "        else:\n",
    "            color = matches_color\n",
    "\n",
    "        ax.plot((keypoints1[idx1, 1], keypoints2[idx2, 1] + offset[1]),\n",
    "                (keypoints1[idx1, 0], keypoints2[idx2, 0]), '-', color=color)"
   ]
  },
  {
   "cell_type": "markdown",
   "metadata": {},
   "source": [
    "####Edge detection\n",
    "\n",
    "![image.png](data:image/png;base64,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)"
   ]
  },
  {
   "cell_type": "code",
   "execution_count": 3,
   "metadata": {},
   "outputs": [
    {
     "data": {
      "image/png": "[encoded data removed]",
      "text/plain": [
       "<Figure size 640x480 with 1 Axes>"
      ]
     },
     "metadata": {},
     "output_type": "display_data"
    }
   ],
   "source": [
    "# TODO: implement this function\n",
    "# input: im is an RGB image with shape [height, width, 3]\n",
    "# output: edge_mask with shape [height, width] with valuse 0 and 1, where 1s indicate edge pixels of the input image\n",
    "# You can use opencv functions and numpy functions\n",
    "def edge_detection(im, threshold=5):\n",
    "    # *****START OF YOUR CODE (DO NOT DELETE/MODIFY THIS LINE)*****\n",
    "\n",
    "    # step 0: convert RGB to gray-scale image\n",
    "    im = cv2.cvtColor(im, cv2.COLOR_RGB2GRAY)\n",
    "\n",
    "\n",
    "    # step 1: compute image gradient using Sobel filters with kernel size 5\n",
    "    # https://opencv24-python-tutorials.readthedocs.io/en/latest/py_tutorials/py_imgproc/py_gradients/py_gradients.html\n",
    "    xSobel = cv2.Sobel(im, cv2.CV_64F, 1, 0, ksize=5)\n",
    "    ySobel = cv2.Sobel(im, cv2.CV_64F, 0, 1, ksize=5)\n",
    "\n",
    "    # step 2: compute gradient magnitude at every pixels\n",
    "    grad_magnitude = np.sqrt((xSobel**2)+(ySobel**2))\n",
    "\n",
    "\n",
    "    # step 3: threshold the gradient magnitude to obtain edge mask\n",
    "    # use threshold\n",
    "    edge_mask =  (grad_magnitude > threshold).astype(np.uint8)\n",
    "\n",
    "    # *****END OF YOUR CODE (DO NOT DELETE/MODIFY THIS LINE)*****\n",
    "    ### END YOUR CODE\n",
    "\n",
    "    return edge_mask\n",
    "\n",
    "im_bw = cv2.imread('bw.jpg')\n",
    "edge_mask = edge_detection(im_bw, 100)\n",
    "\n",
    "plt.imshow(edge_mask, cmap='gray')\n",
    "plt.axis('off')\n",
    "plt.show()"
   ]
  }
 ],
 "metadata": {
  "kernelspec": {
   "display_name": "Python 3",
   "language": "python",
   "name": "python3"
  },
  "language_info": {
   "codemirror_mode": {
    "name": "ipython",
    "version": 3
   },
   "file_extension": ".py",
   "mimetype": "text/x-python",
   "name": "python",
   "nbconvert_exporter": "python",
   "pygments_lexer": "ipython3",
   "version": "3.9.13"
  }
 },
 "nbformat": 4,
 "nbformat_minor": 2
}
